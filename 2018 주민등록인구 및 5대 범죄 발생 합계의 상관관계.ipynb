{
 "cells": [
  {
   "cell_type": "code",
   "execution_count": 8,
   "metadata": {},
   "outputs": [],
   "source": [
    "import pandas as pd\n",
    "import seaborn as sns\n",
    "from matplotlib import pyplot as plt\n",
    "import numpy as np\n",
    "from matplotlib import font_manager, rc\n",
    "\n",
    "font_name = font_manager.FontProperties(fname=\"c:/Windows/Fonts/malgun.ttf\").get_name()\n",
    "rc('font', family=font_name)\n",
    "\n",
    "import matplotlib \n",
    "matplotlib.font_manager._rebuild()"
   ]
  },
  {
   "cell_type": "markdown",
   "metadata": {},
   "source": [
    "# # 1. 데이터 전처리"
   ]
  },
  {
   "cell_type": "markdown",
   "metadata": {},
   "source": [
    "### # 1. 서울시 자치구별 5대 범죄 발생 수"
   ]
  },
  {
   "cell_type": "code",
   "execution_count": 9,
   "metadata": {},
   "outputs": [],
   "source": [
    "crime_2018 = pd.read_table('./data/seoul_crime/crime_18.txt', header=1, sep='\\t',  thousands=',')\n"
   ]
  },
  {
   "cell_type": "code",
   "execution_count": 10,
   "metadata": {},
   "outputs": [
    {
     "data": {
      "text/html": [
       "<div>\n",
       "<style scoped>\n",
       "    .dataframe tbody tr th:only-of-type {\n",
       "        vertical-align: middle;\n",
       "    }\n",
       "\n",
       "    .dataframe tbody tr th {\n",
       "        vertical-align: top;\n",
       "    }\n",
       "\n",
       "    .dataframe thead th {\n",
       "        text-align: right;\n",
       "    }\n",
       "</style>\n",
       "<table border=\"1\" class=\"dataframe\">\n",
       "  <thead>\n",
       "    <tr style=\"text-align: right;\">\n",
       "      <th></th>\n",
       "      <th>기간</th>\n",
       "      <th>합계발생</th>\n",
       "      <th>살인발생</th>\n",
       "      <th>강도발생</th>\n",
       "      <th>강간강제추행발생</th>\n",
       "      <th>절도발생</th>\n",
       "      <th>폭력발생</th>\n",
       "    </tr>\n",
       "    <tr>\n",
       "      <th>자치구</th>\n",
       "      <th></th>\n",
       "      <th></th>\n",
       "      <th></th>\n",
       "      <th></th>\n",
       "      <th></th>\n",
       "      <th></th>\n",
       "      <th></th>\n",
       "    </tr>\n",
       "  </thead>\n",
       "  <tbody>\n",
       "    <tr>\n",
       "      <th>합계</th>\n",
       "      <td>2018</td>\n",
       "      <td>101948</td>\n",
       "      <td>143</td>\n",
       "      <td>143</td>\n",
       "      <td>6412</td>\n",
       "      <td>39175</td>\n",
       "      <td>56075</td>\n",
       "    </tr>\n",
       "    <tr>\n",
       "      <th>종로구</th>\n",
       "      <td>2018</td>\n",
       "      <td>3690</td>\n",
       "      <td>6</td>\n",
       "      <td>3</td>\n",
       "      <td>236</td>\n",
       "      <td>1483</td>\n",
       "      <td>1962</td>\n",
       "    </tr>\n",
       "    <tr>\n",
       "      <th>중구</th>\n",
       "      <td>2018</td>\n",
       "      <td>4030</td>\n",
       "      <td>2</td>\n",
       "      <td>11</td>\n",
       "      <td>207</td>\n",
       "      <td>1855</td>\n",
       "      <td>1955</td>\n",
       "    </tr>\n",
       "    <tr>\n",
       "      <th>용산구</th>\n",
       "      <td>2018</td>\n",
       "      <td>3411</td>\n",
       "      <td>1</td>\n",
       "      <td>3</td>\n",
       "      <td>331</td>\n",
       "      <td>1096</td>\n",
       "      <td>1980</td>\n",
       "    </tr>\n",
       "    <tr>\n",
       "      <th>성동구</th>\n",
       "      <td>2018</td>\n",
       "      <td>2457</td>\n",
       "      <td>2</td>\n",
       "      <td>5</td>\n",
       "      <td>126</td>\n",
       "      <td>999</td>\n",
       "      <td>1325</td>\n",
       "    </tr>\n",
       "  </tbody>\n",
       "</table>\n",
       "</div>"
      ],
      "text/plain": [
       "       기간    합계발생  살인발생  강도발생  강간강제추행발생   절도발생   폭력발생\n",
       "자치구                                                  \n",
       "합계   2018  101948   143   143      6412  39175  56075\n",
       "종로구  2018    3690     6     3       236   1483   1962\n",
       "중구   2018    4030     2    11       207   1855   1955\n",
       "용산구  2018    3411     1     3       331   1096   1980\n",
       "성동구  2018    2457     2     5       126    999   1325"
      ]
     },
     "execution_count": 10,
     "metadata": {},
     "output_type": "execute_result"
    }
   ],
   "source": [
    "col = ['기간','자치구', '합계발생', '합계검거', '살인발생', '살인검거', '강도발생', '강도검거', '강간강제추행발생',\n",
    "       '강간강제추행검거', '절도발생', '절도검거', '폭력발생', '폭력검거']\n",
    "\n",
    "crime_2018.columns = col \n",
    "\n",
    "crime_2018.drop(['합계검거', '살인검거', '강도검거', '강간강제추행검거','절도검거','폭력검거'], \n",
    "                 axis=1, inplace=True)\n",
    "\n",
    "crime_2018.set_index('자치구', inplace=True)\n",
    "\n",
    "crime_2018.head()"
   ]
  },
  {
   "cell_type": "code",
   "execution_count": 11,
   "metadata": {},
   "outputs": [],
   "source": [
    "crime_test1 = pd.pivot_table(crime_2018,index=['자치구'], values='합계발생', aggfunc=[sum])\n",
    "crime_test1 = crime_2018.sort_values(('합계발생'), ascending= False)\n",
    "\n",
    "crime_test1.to_pickle('crime.pkl')\n",
    "\n"
   ]
  },
  {
   "cell_type": "code",
   "execution_count": 12,
   "metadata": {},
   "outputs": [
    {
     "data": {
      "text/html": [
       "<div>\n",
       "<style scoped>\n",
       "    .dataframe tbody tr th:only-of-type {\n",
       "        vertical-align: middle;\n",
       "    }\n",
       "\n",
       "    .dataframe tbody tr th {\n",
       "        vertical-align: top;\n",
       "    }\n",
       "\n",
       "    .dataframe thead th {\n",
       "        text-align: right;\n",
       "    }\n",
       "</style>\n",
       "<table border=\"1\" class=\"dataframe\">\n",
       "  <thead>\n",
       "    <tr style=\"text-align: right;\">\n",
       "      <th></th>\n",
       "      <th>합계발생</th>\n",
       "    </tr>\n",
       "    <tr>\n",
       "      <th>자치구</th>\n",
       "      <th></th>\n",
       "    </tr>\n",
       "  </thead>\n",
       "  <tbody>\n",
       "    <tr>\n",
       "      <th>합계</th>\n",
       "      <td>101948</td>\n",
       "    </tr>\n",
       "    <tr>\n",
       "      <th>강남구</th>\n",
       "      <td>7513</td>\n",
       "    </tr>\n",
       "    <tr>\n",
       "      <th>영등포구</th>\n",
       "      <td>5840</td>\n",
       "    </tr>\n",
       "    <tr>\n",
       "      <th>송파구</th>\n",
       "      <td>5807</td>\n",
       "    </tr>\n",
       "    <tr>\n",
       "      <th>마포구</th>\n",
       "      <td>5172</td>\n",
       "    </tr>\n",
       "  </tbody>\n",
       "</table>\n",
       "</div>"
      ],
      "text/plain": [
       "        합계발생\n",
       "자치구         \n",
       "합계    101948\n",
       "강남구     7513\n",
       "영등포구    5840\n",
       "송파구     5807\n",
       "마포구     5172"
      ]
     },
     "execution_count": 12,
     "metadata": {},
     "output_type": "execute_result"
    }
   ],
   "source": [
    "crime_test1.drop(['기간','살인발생', '강도발생', '강간강제추행발생','절도발생','폭력발생'], \n",
    "                 axis=1, inplace=True)\n",
    "\n",
    "crime_test1.head()"
   ]
  },
  {
   "cell_type": "markdown",
   "metadata": {},
   "source": [
    "### # 2. 서울시 자치구별  주민등록인구"
   ]
  },
  {
   "cell_type": "code",
   "execution_count": 16,
   "metadata": {},
   "outputs": [],
   "source": [
    "raw_pop18 = pd.read_table('./data/seoul_pop/pop_18.txt', header=2, sep='\\t', thousands=',')"
   ]
  },
  {
   "cell_type": "code",
   "execution_count": 17,
   "metadata": {},
   "outputs": [],
   "source": [
    "raw_pop18.drop(['기간', '세대','남자','여자','계.1','남자.1','여자.1','계.2','남자.2','여자.2','세대당인구','65세이상고령자'], axis=1, inplace=True)\n",
    "raw_pop18.set_index('자치구', inplace=True)\n"
   ]
  },
  {
   "cell_type": "markdown",
   "metadata": {},
   "source": [
    "# # 2. Merge"
   ]
  },
  {
   "cell_type": "code",
   "execution_count": 18,
   "metadata": {},
   "outputs": [
    {
     "data": {
      "text/html": [
       "<div>\n",
       "<style scoped>\n",
       "    .dataframe tbody tr th:only-of-type {\n",
       "        vertical-align: middle;\n",
       "    }\n",
       "\n",
       "    .dataframe tbody tr th {\n",
       "        vertical-align: top;\n",
       "    }\n",
       "\n",
       "    .dataframe thead th {\n",
       "        text-align: right;\n",
       "    }\n",
       "</style>\n",
       "<table border=\"1\" class=\"dataframe\">\n",
       "  <thead>\n",
       "    <tr style=\"text-align: right;\">\n",
       "      <th></th>\n",
       "      <th>총 범죄발생수</th>\n",
       "      <th>총 인구수</th>\n",
       "    </tr>\n",
       "    <tr>\n",
       "      <th>자치구</th>\n",
       "      <th></th>\n",
       "      <th></th>\n",
       "    </tr>\n",
       "  </thead>\n",
       "  <tbody>\n",
       "    <tr>\n",
       "      <th>강남구</th>\n",
       "      <td>7513</td>\n",
       "      <td>547453</td>\n",
       "    </tr>\n",
       "    <tr>\n",
       "      <th>영등포구</th>\n",
       "      <td>5840</td>\n",
       "      <td>403600</td>\n",
       "    </tr>\n",
       "    <tr>\n",
       "      <th>송파구</th>\n",
       "      <td>5807</td>\n",
       "      <td>673507</td>\n",
       "    </tr>\n",
       "    <tr>\n",
       "      <th>마포구</th>\n",
       "      <td>5172</td>\n",
       "      <td>386359</td>\n",
       "    </tr>\n",
       "    <tr>\n",
       "      <th>관악구</th>\n",
       "      <td>5026</td>\n",
       "      <td>520040</td>\n",
       "    </tr>\n",
       "  </tbody>\n",
       "</table>\n",
       "</div>"
      ],
      "text/plain": [
       "      총 범죄발생수   총 인구수\n",
       "자치구                  \n",
       "강남구      7513  547453\n",
       "영등포구     5840  403600\n",
       "송파구      5807  673507\n",
       "마포구      5172  386359\n",
       "관악구      5026  520040"
      ]
     },
     "execution_count": 18,
     "metadata": {},
     "output_type": "execute_result"
    }
   ],
   "source": [
    "crime_pop_18 = pd.merge(crime_test1, raw_pop18, on='자치구')\n",
    "\n",
    "crime_pop_18 = crime_pop_18.drop(\"합계\", axis=0) \n",
    "crime_pop_18 = crime_pop_18.rename({'계': \"총인구\"}, axis='columns')\n",
    "crime_pop_18.columns = [\"총 범죄발생수\", \"총 인구수\"]\n",
    "\n",
    "crime_pop_18.head()"
   ]
  },
  {
   "cell_type": "markdown",
   "metadata": {},
   "source": [
    "# # 3. 상관관계"
   ]
  },
  {
   "cell_type": "markdown",
   "metadata": {},
   "source": [
    "### # 1. 상관계수"
   ]
  },
  {
   "cell_type": "code",
   "execution_count": 9,
   "metadata": {},
   "outputs": [
    {
     "data": {
      "text/html": [
       "<div>\n",
       "<style scoped>\n",
       "    .dataframe tbody tr th:only-of-type {\n",
       "        vertical-align: middle;\n",
       "    }\n",
       "\n",
       "    .dataframe tbody tr th {\n",
       "        vertical-align: top;\n",
       "    }\n",
       "\n",
       "    .dataframe thead th {\n",
       "        text-align: right;\n",
       "    }\n",
       "</style>\n",
       "<table border=\"1\" class=\"dataframe\">\n",
       "  <thead>\n",
       "    <tr style=\"text-align: right;\">\n",
       "      <th></th>\n",
       "      <th>총 범죄발생수</th>\n",
       "      <th>총 인구수</th>\n",
       "    </tr>\n",
       "  </thead>\n",
       "  <tbody>\n",
       "    <tr>\n",
       "      <th>총 범죄발생수</th>\n",
       "      <td>1.000000</td>\n",
       "      <td>0.507629</td>\n",
       "    </tr>\n",
       "    <tr>\n",
       "      <th>총 인구수</th>\n",
       "      <td>0.507629</td>\n",
       "      <td>1.000000</td>\n",
       "    </tr>\n",
       "  </tbody>\n",
       "</table>\n",
       "</div>"
      ],
      "text/plain": [
       "          총 범죄발생수     총 인구수\n",
       "총 범죄발생수  1.000000  0.507629\n",
       "총 인구수    0.507629  1.000000"
      ]
     },
     "execution_count": 9,
     "metadata": {},
     "output_type": "execute_result"
    }
   ],
   "source": [
    "crime_pop_18_corr = crime_pop_18.corr(method='pearson')\n",
    "crime_pop_18_corr"
   ]
  },
  {
   "cell_type": "markdown",
   "metadata": {},
   "source": [
    "##### 주민등록인구 수와 5대 범죄 발생 건수는 비교적 높은 상관관계를 나타낸다"
   ]
  },
  {
   "cell_type": "markdown",
   "metadata": {},
   "source": [
    "### # 2. 시각화"
   ]
  },
  {
   "cell_type": "code",
   "execution_count": 10,
   "metadata": {},
   "outputs": [],
   "source": [
    "tmp = crime_pop_18.reset_index().rename(columns={\"index\": \"자치구\"})"
   ]
  },
  {
   "cell_type": "code",
   "execution_count": 11,
   "metadata": {},
   "outputs": [
    {
     "data": {
      "image/png": "[encoded data removed]",
      "text/plain": [
       "<Figure size 432x288 with 1 Axes>"
      ]
     },
     "metadata": {
      "image/png": {
       "height": 279,
       "width": 392
      },
      "needs_background": "light"
     },
     "output_type": "display_data"
    }
   ],
   "source": [
    "graph = sns.regplot(x=tmp[\"총 인구수\"], y=tmp[\"총 범죄발생수\"])\n",
    "graph.set_xlabel(\" 주민등록인구\")\n",
    "graph.set_ylabel(\"5대 범죄 발생 건수\")\n",
    "graph.set_title('주민등록인구와 5대 범죄 발생 상관관계')\n",
    "\n",
    "plt.show()\n"
   ]
  },
  {
   "cell_type": "markdown",
   "metadata": {},
   "source": [
    "##### 데이터프레임 저장"
   ]
  },
  {
   "cell_type": "code",
   "execution_count": 12,
   "metadata": {},
   "outputs": [],
   "source": [
    "crime_test1.to_pickle(\"crime_test1.pkl\")"
   ]
  },
  {
   "cell_type": "code",
   "execution_count": 13,
   "metadata": {},
   "outputs": [],
   "source": [
    "raw_pop18.to_pickle(\"pop_test1.pkl\")"
   ]
  }
 ],
 "metadata": {
  "kernelspec": {
   "display_name": "Python 3",
   "language": "python",
   "name": "python3"
  },
  "language_info": {
   "codemirror_mode": {
    "name": "ipython",
    "version": 3
   },
   "file_extension": ".py",
   "mimetype": "text/x-python",
   "name": "python",
   "nbconvert_exporter": "python",
   "pygments_lexer": "ipython3",
   "version": "3.8.3"
  }
 },
 "nbformat": 4,
 "nbformat_minor": 4
}
